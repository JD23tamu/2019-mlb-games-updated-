{
 "cells": [
  {
   "cell_type": "markdown",
   "id": "ccd5d67b",
   "metadata": {},
   "source": [
    "# MLB Games 2019"
   ]
  },
  {
   "cell_type": "markdown",
   "id": "a0df562e",
   "metadata": {},
   "source": [
    "AUTHOR: Jonathan Hewlett\n",
    "* COURSE: ANLY 615\n",
    "* PROGRAM: mlb-games-2019\n",
    "* PURPOSE: Calculate % of games won by each team\n",
    "* INPUT: CSV file with data from 2019 MLB regular season\n",
    "* PROCESS: Use pandas to read csv file, then calculate wins/total, then sort accordingly\n",
    "* OUTPUT: Team Name, wins, losses, division, games WON %\n",
    "* HONOR CODE: On my honor, as an Aggie, I have neither given nor received unauthorized aid on this academic work"
   ]
  },
  {
   "cell_type": "markdown",
   "id": "4375defa",
   "metadata": {},
   "source": [
    "- **Load the MLB data from CSV file**\n",
    "- **Calculate % won - based on wins/total games**\n",
    "- **Sort by Division, then games won %**"
   ]
  },
  {
   "cell_type": "markdown",
   "id": "582e6d45",
   "metadata": {},
   "source": [
    "## Difficulties experienced:"
   ]
  },
  {
   "cell_type": "markdown",
   "id": "d4be4902",
   "metadata": {},
   "source": [
    "- **CSV file** - Forgot to put the csv file in the same path as this code\n",
    "- **Markdowns** - Needed to watch some Youtube videos to learn how to use different types of Markdowns\n",
    "- **Sorting** - There was an added degree of difficulty while sorting by 1st 'division', then 'game won %'"
   ]
  },
  {
   "cell_type": "code",
   "execution_count": 1,
   "id": "63c3d983",
   "metadata": {},
   "outputs": [],
   "source": [
    "import pandas as pd"
   ]
  },
  {
   "cell_type": "code",
   "execution_count": 16,
   "id": "c63712b0",
   "metadata": {},
   "outputs": [
    {
     "name": "stdout",
     "output_type": "stream",
     "text": [
      "              team name  wins  losses    division  game won percentage\n",
      "0             Minnesota   101      61  AL Central                62.35\n",
      "1             Cleveland    93      69  AL Central                57.41\n",
      "2     Chicago White Sox    72      89  AL Central                44.72\n",
      "3           Kansas City    59     103  AL Central                36.42\n",
      "4               Detroit    47     114  AL Central                29.19\n",
      "5      New York Yankees   103      59     AL East                63.58\n",
      "6             Tampa Bay    96      66     AL East                59.26\n",
      "7                Boston    84      78     AL East                51.85\n",
      "8               Toronto    67      95     AL East                41.36\n",
      "9             Baltimore    54     108     AL East                33.33\n",
      "10              Houston   107      55     AL West                66.05\n",
      "11              Oakland    97      65     AL West                59.88\n",
      "12                Texas    78      84     AL West                48.15\n",
      "13   Los Angeles Angels    72      90     AL West                44.44\n",
      "14              Seattle    68      94     AL West                41.98\n",
      "15            St. Louis    91      71  NL Central                56.17\n",
      "16            Milwaukee    89      73  NL Central                54.94\n",
      "17         Chicago Cubs    84      78  NL Central                51.85\n",
      "18           Cincinnati    75      87  NL Central                46.30\n",
      "19           Pittsburgh    69      93  NL Central                42.59\n",
      "20              Atlanta    97      65     NL East                59.88\n",
      "21           Washington    93      69     NL East                57.41\n",
      "22        New York Mets    86      76     NL East                53.09\n",
      "23         Philadelphia    81      81     NL East                50.00\n",
      "24                Miami    57     105     NL East                35.19\n",
      "25  Los Angeles Dodgers   106      56     NL West                65.43\n",
      "26              Arizona    85      77     NL West                52.47\n",
      "27        San Francisco    77      85     NL West                47.53\n",
      "28             Colorado    71      91     NL West                43.83\n",
      "29            San Diego    70      92     NL West                43.21\n"
     ]
    }
   ],
   "source": [
    "def main():\n",
    "    # load data from mlb\n",
    "    mlb_data = pd.read_csv(\"mlb-games-2019.csv\", names=('team name', 'wins', 'losses', 'division'))\n",
    "    # add won %\n",
    "    mlb_data['game won percentage'] = round(mlb_data['wins']/(mlb_data['wins'] + mlb_data['losses'])* 100,2)\n",
    "    # sort on ascending order by division first and descending order by percent of games won\n",
    "    mlb_data = mlb_data.sort_values([\"division\", \"game won percentage\"], ascending = (True, False))\n",
    "    mlb_data = mlb_data.reset_index(drop=True)\n",
    "    # export to csv\n",
    "    mlb_data.to_csv(r'mlb-division-standings-2019.csv', index = False, header=True)\n",
    "    return mlb_data\n",
    "\n",
    "if __name__ == '__main__':\n",
    "    m = main()\n",
    "    print(m)"
   ]
  },
  {
   "cell_type": "code",
   "execution_count": null,
   "id": "7c8dcd97",
   "metadata": {},
   "outputs": [],
   "source": []
  }
 ],
 "metadata": {
  "kernelspec": {
   "display_name": "Python 3",
   "language": "python",
   "name": "python3"
  },
  "language_info": {
   "codemirror_mode": {
    "name": "ipython",
    "version": 3
   },
   "file_extension": ".py",
   "mimetype": "text/x-python",
   "name": "python",
   "nbconvert_exporter": "python",
   "pygments_lexer": "ipython3",
   "version": "3.8.8"
  }
 },
 "nbformat": 4,
 "nbformat_minor": 5
}
